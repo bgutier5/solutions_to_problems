{
 "cells": [
  {
   "cell_type": "code",
   "execution_count": 1,
   "metadata": {},
   "outputs": [],
   "source": [
    "import sympy\n",
    "import pandas as pd\n",
    "from sympy import nsimplify, sin, pi, integrate, exp, oo\n",
    "sympy.init_printing()\n",
    "from sympy.printing.latex import LatexPrinter, print_latex\n",
    "from io import StringIO  # Python3\n",
    "import sys"
   ]
  },
  {
   "cell_type": "markdown",
   "metadata": {},
   "source": [
    "# Description\n",
    "This file computes the possible energy eigenvalues  and the correspoding probabilities for the problem 7.38 of the Levine, Quantum Chemistry, 7th edition.\n",
    "The system is a particle in a box with the non-stationary wavefunction  \n",
    "\n",
    "\n",
    "$ \\Psi(x) = (\\frac{27}{\\pi a^3})^{1/2} e^{-3r/a} $\n",
    "\n",
    "A more detailed explanation of this procedure is in my notebook (black cover/brand: mead) for Levine solutions\n",
    "\n"
   ]
  },
  {
   "cell_type": "code",
   "execution_count": 2,
   "metadata": {},
   "outputs": [],
   "source": [
    "\n",
    "# Defining variables \n",
    "a, r, t, p = sympy.symbols('a r t p')\n",
    "# where\n",
    "# a = borh radius\n",
    "# r = r coordinate"
   ]
  },
  {
   "cell_type": "code",
   "execution_count": 3,
   "metadata": {},
   "outputs": [],
   "source": [
    "# Defining functions\n",
    "A = (27/(pi*a**3))**0.5\n",
    "f = exp(-3*r/a)\n",
    "Psi = A*f # non-stationary-state wavefunction\n",
    "\n",
    "B = (1/pi)**0.5 * (1/a)**(3/2)\n",
    "g = exp(-2*r/a)\n",
    "psi = B*g # particle-in-box eigenfunction\n",
    "\n",
    "#energy_n = n**2*h**2/(8*m*l**2) # eigenvalue for a particle-in-box eigenfunction\n"
   ]
  },
  {
   "cell_type": "code",
   "execution_count": 4,
   "metadata": {
    "scrolled": true
   },
   "outputs": [
    {
     "data": {
      "image/png": "[encoded data removed]",
      "text/latex": [
       "$\\displaystyle \\frac{519615242270663 \\sqrt{\\frac{1}{a^{3}}} e^{- \\frac{3 r}{a}}}{100000000000000 \\sqrt{\\pi}}$"
      ],
      "text/plain": [
       "                           -3⋅r \n",
       "                     ____  ─────\n",
       "                    ╱ 1      a  \n",
       "519615242270663⋅   ╱  ── ⋅ℯ     \n",
       "                  ╱    3        \n",
       "                ╲╱    a         \n",
       "────────────────────────────────\n",
       "       100000000000000⋅√π       "
      ]
     },
     "metadata": {},
     "output_type": "display_data"
    }
   ],
   "source": [
    "display(nsimplify(Psi)) # psi function without decimals in the constant. Sympy does not show the original form"
   ]
  },
  {
   "cell_type": "markdown",
   "metadata": {},
   "source": [
    "The coefficients are computed by projecting the ground state eigenfunction $\\psi_{100}$ from the left of the non stationary wavefunction, $\\Psi$. \n",
    "The projection is done by integrating over all space and using the diferential of polar coordinates\n",
    "\n",
    "$c_0 = \\big \\langle \\psi_{100} \\big | \\; \\Psi  \\big \\rangle$\n",
    "\n",
    "$c_0 =  \\int_{0}^{2\\pi} \\int_{0}^{\\pi} \\int_{0}^{\\infty} \\psi_{100}(r, \\theta, \\phi) * \\Psi(r, \\theta, \\phi) \n",
    "\\; r^2 \\; \\text{sin}(\\theta) \\; \\text{d}r \\; \\text{d}\\theta \\; \\text{d}\\phi$\n",
    "\n",
    "The probability of the state, $P_0$, is given by the square of the coefficient\n",
    "\n",
    "$P_0 = |c_0|^2$\n",
    "\n",
    "\n"
   ]
  },
  {
   "cell_type": "code",
   "execution_count": null,
   "metadata": {},
   "outputs": [],
   "source": [
    "# Integrating function or projecting coefficient\n",
    "integrad = psi*Psi*r**2*sin(t)\n",
    "coefficient_0 = integrate(integrad, (r, 0, oo ), (t, 0, pi), (p, 0, 2*pi))\n",
    "probability_0 = coefficient_0**2"
   ]
  },
  {
   "cell_type": "code",
   "execution_count": null,
   "metadata": {},
   "outputs": [],
   "source": [
    "print boris\n"
   ]
  },
  {
   "cell_type": "code",
   "execution_count": null,
   "metadata": {},
   "outputs": [],
   "source": []
  }
 ],
 "metadata": {
  "kernelspec": {
   "display_name": "Python 3",
   "language": "python",
   "name": "python3"
  },
  "language_info": {
   "codemirror_mode": {
    "name": "ipython",
    "version": 3
   },
   "file_extension": ".py",
   "mimetype": "text/x-python",
   "name": "python",
   "nbconvert_exporter": "python",
   "pygments_lexer": "ipython3",
   "version": "3.8.5"
  }
 },
 "nbformat": 4,
 "nbformat_minor": 4
}
