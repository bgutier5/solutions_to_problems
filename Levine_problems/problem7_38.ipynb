{
 "cells": [
  {
   "cell_type": "code",
   "execution_count": 1,
   "metadata": {},
   "outputs": [],
   "source": [
    "import sympy\n",
    "import pandas as pd\n",
    "from sympy import nsimplify, sin, pi, integrate, exp, oo\n",
    "sympy.init_printing()\n",
    "from sympy.printing.latex import LatexPrinter, print_latex\n",
    "from io import StringIO  # Python3\n",
    "import sys"
   ]
  },
  {
   "cell_type": "markdown",
   "metadata": {},
   "source": [
    "# Description\n",
    "This script computes the solution to the problem 7.38 of the Levine, Quantum Chemistry, 7th edition.\n",
    "We want to compute the probability of an electron in the hydrongen atom having the eigen energy \n",
    "\n",
    "$E_n = \\frac{-e^2}{8\\pi\\epsilon_0a}$\n",
    "\n",
    "The hydrogen atom hast the non-stationary wavefunction \n",
    "\n",
    "$ \\Psi(r, \\theta, \\phi) = (\\frac{27}{\\pi a^3})^{1/2} e^{-3r/a} $\n",
    "\n",
    "A more detailed explanation of this procedure is in my notebook (black cover/brand: mead) for Levine solutions\n",
    "\n"
   ]
  },
  {
   "cell_type": "code",
   "execution_count": 2,
   "metadata": {},
   "outputs": [],
   "source": [
    "\n",
    "# Defining variables \n",
    "r, t, p = sympy.symbols('r t p')\n",
    "a = 1 # borh radius in atomic units\n",
    "# where\n",
    "# r = radius \n",
    "# t = Theta\n",
    "# p = phi"
   ]
  },
  {
   "cell_type": "code",
   "execution_count": 3,
   "metadata": {},
   "outputs": [],
   "source": [
    "# Defining functions\n",
    "A = (27/(pi*a**3))**0.5\n",
    "f = exp(-3*r/a)\n",
    "Psi = A*f # non-stationary-state wavefunction\n",
    "\n",
    "B = (1/pi)**0.5 * (1/a)**(3/2)\n",
    "g = exp(-r/a)\n",
    "psi = B*g # ground-state eigenfunction\n"
   ]
  },
  {
   "cell_type": "code",
   "execution_count": 4,
   "metadata": {
    "scrolled": false
   },
   "outputs": [
    {
     "data": {
      "image/png": "[encoded data removed]",
      "text/latex": [
       "$\\displaystyle \\frac{519615242270663 e^{- 3 r}}{100000000000000 \\sqrt{\\pi}}$"
      ],
      "text/plain": [
       "                 -3⋅r\n",
       "519615242270663⋅ℯ    \n",
       "─────────────────────\n",
       "  100000000000000⋅√π "
      ]
     },
     "metadata": {},
     "output_type": "display_data"
    }
   ],
   "source": [
    "display(nsimplify(Psi)) # psi function without decimals in the constant. Sympy does not show the original form"
   ]
  },
  {
   "cell_type": "markdown",
   "metadata": {},
   "source": [
    "The specified energy is of the ground state ($n=1$), so the probability, $P_1$, of the ground state, $E_1$ is computed from the coefficient of its corresponding eigentstate, which in turn are computed by projecting the ground state eigenfunction, $\\psi_{100}$, from the left of the non stationary wavefunction, $\\Psi(r, \\theta, \\phi)$. The projection is done by integrating over all space and using the diferential of polar coordinates\n",
    "\n",
    "$c_1 = \\big \\langle \\psi_{100} \\big | \\; \\Psi  \\big \\rangle$\n",
    "\n",
    "$c_1 =  \\int_{0}^{2\\pi} \\int_{0}^{\\pi} \\int_{0}^{\\infty} \\psi_{100}(r, \\theta, \\phi) * \\Psi(r, \\theta, \\phi) \n",
    "\\; r^2 \\; \\text{sin}(\\theta) \\; \\text{d}r \\; \\text{d}\\theta \\; \\text{d}\\phi$\n",
    "\n",
    "The probability of the state, $P_1$, is given by the square of the coefficient\n",
    "\n",
    "$P_1 = |c_1|^2$\n",
    "\n",
    "\n"
   ]
  },
  {
   "cell_type": "code",
   "execution_count": 9,
   "metadata": {},
   "outputs": [
    {
     "name": "stdout",
     "output_type": "stream",
     "text": [
      "Probability (n=1) = 0.421875\n"
     ]
    }
   ],
   "source": [
    "# Integrating function or projecting coefficient\n",
    "integrad = psi*Psi*r**2*sin(t)\n",
    "coefficient_1 = integrate(integrad, (r, 0, oo ), (t, 0, pi), (p, 0, 2*pi))\n",
    "probability_1 = coefficient_1**2\n",
    "print('Probability (n=1) = {:.6f}'.format(probability_1)) # a = Borh radius in atomic units"
   ]
  },
  {
   "cell_type": "code",
   "execution_count": null,
   "metadata": {},
   "outputs": [],
   "source": []
  }
 ],
 "metadata": {
  "kernelspec": {
   "display_name": "Python 3",
   "language": "python",
   "name": "python3"
  },
  "language_info": {
   "codemirror_mode": {
    "name": "ipython",
    "version": 3
   },
   "file_extension": ".py",
   "mimetype": "text/x-python",
   "name": "python",
   "nbconvert_exporter": "python",
   "pygments_lexer": "ipython3",
   "version": "3.8.5"
  }
 },
 "nbformat": 4,
 "nbformat_minor": 4
}
