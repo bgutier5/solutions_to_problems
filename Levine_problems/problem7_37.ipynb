{
 "cells": [
  {
   "cell_type": "code",
   "execution_count": 15,
   "metadata": {},
   "outputs": [],
   "source": [
    "import sympy\n",
    "import pandas as pd\n",
    "from sympy import nsimplify, sin, pi, integrate\n",
    "sympy.init_printing()\n",
    "from sympy.printing.latex import LatexPrinter, print_latex\n",
    "from io import StringIO  # Python3\n",
    "import sys"
   ]
  },
  {
   "cell_type": "markdown",
   "metadata": {},
   "source": [
    "# Description\n",
    "This file computes the possible energy eigenvalues  and the correspoding probabilities for the problem 7.37 of the Levine, Quantum Chemistry, 7th edition.\n",
    "The system is a particle in a box with the non-stationary wavefunction  \n",
    "\n",
    "\n",
    "$ \\Psi(x) =  \\left (\\frac{105}{l^7}\\right)^{1/2} x^2(l-x) $    \n",
    "A more detailed explanation of this procedure is in my notebook (black cover/brand: mead) for Levine solutions\n",
    "\n"
   ]
  },
  {
   "cell_type": "code",
   "execution_count": 16,
   "metadata": {},
   "outputs": [],
   "source": [
    "# Quantum numbers (n) to compute\n",
    "n_values = [1,2,3,4,5]\n",
    "\n",
    "\n",
    "\n",
    "# Defining variables \n",
    "x, n, l, m, h = sympy.symbols('x n l m h')\n",
    "# where\n",
    "# l = length of box\n",
    "# n = energy quantum number\n",
    "# x = x coordinate\n",
    "# m = particle mass\n",
    "# h = planck constant\n"
   ]
  },
  {
   "cell_type": "code",
   "execution_count": 17,
   "metadata": {},
   "outputs": [],
   "source": [
    "# Defining functions\n",
    "A = (105/l**7)**0.5\n",
    "f = x**2*(l-x)\n",
    "Psi = A*f # non-stationary-state wavefunction\n",
    "\n",
    "B = (2/l)**0.5\n",
    "g = sin(n*pi*x/l)\n",
    "psi = B*g # particle-in-box eigenfunction\n",
    "\n",
    "energy_n = n**2*h**2/(8*m*l**2) # eigenvalue for a particle-in-box eigenfunction\n"
   ]
  },
  {
   "cell_type": "code",
   "execution_count": 18,
   "metadata": {},
   "outputs": [],
   "source": [
    "# display(nsimplify(psi)) # psi function without decimals in the constant. Sympy does not show the original form"
   ]
  },
  {
   "cell_type": "markdown",
   "metadata": {},
   "source": [
    "The coefficients are computed by projecting the eigenfunction $\\psi_n$ from the left of the non stationary wavefunction, $\\Psi$. \n",
    "The projection is done by integrating over the specified boundary conditions of the box.\n",
    "\n",
    "$c_n = \\big \\langle \\psi_n \\big | \\; \\Psi  \\big \\rangle$\\\n",
    "$c_n = \\int_{0}^{l} \\psi_n(x) * \\Psi(x) dx$\n",
    "\n",
    "The probability of the state, $P_n$, is given by the square of the coefficient\n",
    "\n",
    "$P_n = |c_n|^2$\n",
    "\n",
    "\n"
   ]
  },
  {
   "cell_type": "code",
   "execution_count": 19,
   "metadata": {},
   "outputs": [],
   "source": [
    "# Integrating function or projecting coefficient\n",
    "integrad = psi*Psi\n",
    "coefficient_n = integrate(integrad, (x, 0, l))\n",
    "probability_n = coefficient_n**2"
   ]
  },
  {
   "cell_type": "code",
   "execution_count": 20,
   "metadata": {},
   "outputs": [],
   "source": [
    "def get_latex_string(expresion, mathmode = True):\n",
    "    \n",
    "    ## This part redirects the standard output from \"print_latex\" function to a variable named \"result_string\" \n",
    "    \n",
    "    old_stdout = sys.stdout # Store the reference, to show things again in standard output\n",
    "    result = StringIO()     # This variable will store everything that is sent to the standard output\n",
    "    sys.stdout = result\n",
    "    \n",
    "    print_latex(expresion)  # sympy function that prints out latex code from expresion\n",
    "    \n",
    "    sys.stdout = old_stdout # Redirect again the std output to screen\n",
    "    result_string = result.getvalue()\n",
    "    \n",
    "    \n",
    "    ## Formatting of the string\n",
    "    \n",
    "    result_string = result_string[:-1] # Discarding line jump \"\\n\" at the end\n",
    "    if 'frac' in result_string:        # 'frac' for some reason is not intepreted by a pandas table. Only 'tfrac' is\n",
    "        result_string = result_string.replace('frac', 'tfrac')\n",
    "        \n",
    "    if mathmode == True: # allows latex code to be interpreted by pandas table in latex math mode\n",
    "        result_string = \"$$\" + result_string + \"$$\" # For some reason pandas needs two dolar signs to enter math mode\n",
    "        \n",
    "    \n",
    "    return result_string\n",
    "    \n",
    "    \n",
    "    \n",
    "# Printing values table using string ouput\n",
    "raw_data = []\n",
    "symbolic_data = []\n",
    "n_values_indices = []\n",
    "for n_i in n_values:\n",
    "    energy_ni_value = energy_n.subs(n, n_i)                       # evaluating function with value n_i\n",
    "    probability_ni_value = nsimplify(probability_n.subs(n, n_i))  # using nsimplify b/c sympy is not smart enough to simplify powers of l(length)\n",
    "    prob_analytical_form = str(probability_ni_value)              # you need to transform the output of sympy to string, otherwise get an error in format function \n",
    "    prob_numerical_value = float((probability_ni_value).evalf())  # evaluation numerically the analytical expresion. Tranform to float, otherwise get an error in format function\n",
    "\n",
    "    energy_string = get_latex_string(energy_ni_value, mathmode = True)\n",
    "    probability_string = get_latex_string(probability_ni_value, mathmode = True)\n",
    "    \n",
    "    raw_data +=      [[energy_ni_value, prob_analytical_form, prob_numerical_value]] # this data does not contain any latex formatting\n",
    "    #symbolic_data += [[energy_string, probability_string[:-2] + '  = $$', prob_numerical_value]]\n",
    "    symbolic_data += [[energy_string, probability_string, \"=    {:.5f}\".format(prob_numerical_value)]]\n",
    "    n_values_indices += ['n = {}'.format(n_i)]\n"
   ]
  },
  {
   "cell_type": "markdown",
   "metadata": {},
   "source": [
    "# **Printing tables using pandas data table**\n"
   ]
  },
  {
   "cell_type": "code",
   "execution_count": 21,
   "metadata": {},
   "outputs": [
    {
     "data": {
      "text/html": [
       "<div>\n",
       "<style scoped>\n",
       "    .dataframe tbody tr th:only-of-type {\n",
       "        vertical-align: middle;\n",
       "    }\n",
       "\n",
       "    .dataframe tbody tr th {\n",
       "        vertical-align: top;\n",
       "    }\n",
       "\n",
       "    .dataframe thead th {\n",
       "        text-align: right;\n",
       "    }\n",
       "</style>\n",
       "<table border=\"1\" class=\"dataframe\">\n",
       "  <thead>\n",
       "    <tr style=\"text-align: right;\">\n",
       "      <th></th>\n",
       "      <th>Energies</th>\n",
       "      <th>Symbolic prob</th>\n",
       "      <th>Numeric prob</th>\n",
       "    </tr>\n",
       "  </thead>\n",
       "  <tbody>\n",
       "    <tr>\n",
       "      <th>n = 1</th>\n",
       "      <td>$$\\tfrac{h^{2}}{8 l^{2} m}$$</td>\n",
       "      <td>$$\\tfrac{840}{\\pi^{6}}$$</td>\n",
       "      <td>=    0.87374</td>\n",
       "    </tr>\n",
       "    <tr>\n",
       "      <th>n = 2</th>\n",
       "      <td>$$\\tfrac{h^{2}}{2 l^{2} m}$$</td>\n",
       "      <td>$$\\tfrac{945}{8 \\pi^{6}}$$</td>\n",
       "      <td>=    0.12287</td>\n",
       "    </tr>\n",
       "    <tr>\n",
       "      <th>n = 3</th>\n",
       "      <td>$$\\tfrac{9 h^{2}}{8 l^{2} m}$$</td>\n",
       "      <td>$$\\tfrac{280}{243 \\pi^{6}}$$</td>\n",
       "      <td>=    0.00120</td>\n",
       "    </tr>\n",
       "    <tr>\n",
       "      <th>n = 4</th>\n",
       "      <td>$$\\tfrac{2 h^{2}}{l^{2} m}$$</td>\n",
       "      <td>$$\\tfrac{945}{512 \\pi^{6}}$$</td>\n",
       "      <td>=    0.00192</td>\n",
       "    </tr>\n",
       "    <tr>\n",
       "      <th>n = 5</th>\n",
       "      <td>$$\\tfrac{25 h^{2}}{8 l^{2} m}$$</td>\n",
       "      <td>$$\\tfrac{168}{3125 \\pi^{6}}$$</td>\n",
       "      <td>=    0.00006</td>\n",
       "    </tr>\n",
       "  </tbody>\n",
       "</table>\n",
       "</div>"
      ],
      "text/plain": [
       "                              Energies                  Symbolic prob  \\\n",
       "n = 1     $$\\tfrac{h^{2}}{8 l^{2} m}$$       $$\\tfrac{840}{\\pi^{6}}$$   \n",
       "n = 2     $$\\tfrac{h^{2}}{2 l^{2} m}$$     $$\\tfrac{945}{8 \\pi^{6}}$$   \n",
       "n = 3   $$\\tfrac{9 h^{2}}{8 l^{2} m}$$   $$\\tfrac{280}{243 \\pi^{6}}$$   \n",
       "n = 4     $$\\tfrac{2 h^{2}}{l^{2} m}$$   $$\\tfrac{945}{512 \\pi^{6}}$$   \n",
       "n = 5  $$\\tfrac{25 h^{2}}{8 l^{2} m}$$  $$\\tfrac{168}{3125 \\pi^{6}}$$   \n",
       "\n",
       "       Numeric prob  \n",
       "n = 1  =    0.87374  \n",
       "n = 2  =    0.12287  \n",
       "n = 3  =    0.00120  \n",
       "n = 4  =    0.00192  \n",
       "n = 5  =    0.00006  "
      ]
     },
     "execution_count": 21,
     "metadata": {},
     "output_type": "execute_result"
    }
   ],
   "source": [
    "pd.DataFrame(symbolic_data, columns=['Energies', 'Symbolic prob', 'Numeric prob'], index=n_values_indices)"
   ]
  },
  {
   "cell_type": "code",
   "execution_count": null,
   "metadata": {},
   "outputs": [],
   "source": []
  }
 ],
 "metadata": {
  "kernelspec": {
   "display_name": "Python 3",
   "language": "python",
   "name": "python3"
  },
  "language_info": {
   "codemirror_mode": {
    "name": "ipython",
    "version": 3
   },
   "file_extension": ".py",
   "mimetype": "text/x-python",
   "name": "python",
   "nbconvert_exporter": "python",
   "pygments_lexer": "ipython3",
   "version": "3.8.5"
  }
 },
 "nbformat": 4,
 "nbformat_minor": 4
}
